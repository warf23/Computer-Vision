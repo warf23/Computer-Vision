{
 "cells": [
  {
   "cell_type": "code",
   "execution_count": 1,
   "metadata": {},
   "outputs": [],
   "source": [
    "import cv2 \n",
    "import numpy as np "
   ]
  },
  {
   "cell_type": "code",
   "execution_count": 8,
   "metadata": {},
   "outputs": [
    {
     "ename": "error",
     "evalue": "OpenCV(4.8.0) D:\\a\\opencv-python\\opencv-python\\opencv\\modules\\highgui\\src\\window_w32.cpp:2561: error: (-27:Null pointer) NULL window: 'frame' in function 'cvGetTrackbarPos'\n",
     "output_type": "error",
     "traceback": [
      "\u001b[1;31m---------------------------------------------------------------------------\u001b[0m",
      "\u001b[1;31merror\u001b[0m                                     Traceback (most recent call last)",
      "Cell \u001b[1;32mIn[8], line 17\u001b[0m\n\u001b[0;32m     14\u001b[0m img_hsv \u001b[39m=\u001b[39m np\u001b[39m.\u001b[39mzeros((\u001b[39m250\u001b[39m, \u001b[39m700\u001b[39m, \u001b[39m3\u001b[39m), np\u001b[39m.\u001b[39muint8)\n\u001b[0;32m     16\u001b[0m \u001b[39mwhile\u001b[39;00m \u001b[39mTrue\u001b[39;00m:\n\u001b[1;32m---> 17\u001b[0m     h \u001b[39m=\u001b[39m cv2\u001b[39m.\u001b[39;49mgetTrackbarPos(\u001b[39m\"\u001b[39;49m\u001b[39mH\u001b[39;49m\u001b[39m\"\u001b[39;49m, \u001b[39m\"\u001b[39;49m\u001b[39mframe\u001b[39;49m\u001b[39m\"\u001b[39;49m)\n\u001b[0;32m     18\u001b[0m     s \u001b[39m=\u001b[39m cv2\u001b[39m.\u001b[39mgetTrackbarPos(\u001b[39m\"\u001b[39m\u001b[39mS\u001b[39m\u001b[39m\"\u001b[39m, \u001b[39m\"\u001b[39m\u001b[39mframe\u001b[39m\u001b[39m\"\u001b[39m)\n\u001b[0;32m     19\u001b[0m     v \u001b[39m=\u001b[39m cv2\u001b[39m.\u001b[39mgetTrackbarPos(\u001b[39m\"\u001b[39m\u001b[39mV\u001b[39m\u001b[39m\"\u001b[39m, \u001b[39m\"\u001b[39m\u001b[39mframe\u001b[39m\u001b[39m\"\u001b[39m)\n",
      "\u001b[1;31merror\u001b[0m: OpenCV(4.8.0) D:\\a\\opencv-python\\opencv-python\\opencv\\modules\\highgui\\src\\window_w32.cpp:2561: error: (-27:Null pointer) NULL window: 'frame' in function 'cvGetTrackbarPos'\n"
     ]
    }
   ],
   "source": [
    "import cv2\n",
    "import numpy as np\n",
    "\n",
    "\n",
    "def nothing(x):\n",
    "    pass\n",
    "# HSV: Hue, Saturation, Value\n",
    "# Trackbar\n",
    "cv2.namedWindow(\"frame\")\n",
    "cv2.createTrackbar(\"H\", \"frame\", 0, 179, nothing)\n",
    "cv2.createTrackbar(\"S\", \"frame\", 255, 255, nothing)\n",
    "cv2.createTrackbar(\"V\", \"frame\", 255, 255, nothing)\n",
    "\n",
    "img_hsv = np.zeros((250, 700, 3), np.uint8)\n",
    "\n",
    "while True:\n",
    "    h = cv2.getTrackbarPos(\"H\", \"frame\")\n",
    "    s = cv2.getTrackbarPos(\"S\", \"frame\")\n",
    "    v = cv2.getTrackbarPos(\"V\", \"frame\")\n",
    "\n",
    "    img_hsv[:] = (h, s, v)\n",
    "    img_bgr = cv2.cvtColor(img_hsv, cv2.COLOR_HSV2BGR)\n",
    "\n",
    "    cv2.imshow(\"frame\", img_bgr)\n",
    "    key = cv2.waitKey(1)\n",
    "    if key == 27:\n",
    "        break\n",
    "\n",
    "\n",
    "cv2.destroyAllWindows()"
   ]
  },
  {
   "cell_type": "code",
   "execution_count": 17,
   "metadata": {},
   "outputs": [],
   "source": [
    "import cv2 \n",
    "import numpy as np   \n",
    "\n",
    "# Read video cap \n",
    "cap = cv2.VideoCapture(0)\n",
    "# set up the with and height of the video cap\n",
    "cap.set(cv2.CAP_PROP_FRAME_WIDTH,1280) \n",
    "cap.set(cv2.CAP_PROP_FRAME_HEIGHT,720 )\n",
    "\n",
    "while True : \n",
    "    _ , frame = cap.read() \n",
    "    hsv_frame = cv2.cvtColor(frame,cv2.COLOR_BGR2HSV) # convert the frame to HSV color space \n",
    "    height , width , _ = frame.shape # get the height and width of the \n",
    "    \n",
    "    # set our tracking point to the center of the frame \n",
    "    center_x = int(width/2)\n",
    "    center_y = int(height/2) \n",
    "    \n",
    "    # pick the pixel value of the center of the frame \n",
    "    center_color = hsv_frame[center_y,center_x] \n",
    "    hue_value = center_color[0] # get the hue value of the center pixel  \n",
    "    \n",
    "    color = 'Undifined' \n",
    "    if hue_value < 5 : \n",
    "        color = 'Red' \n",
    "    elif hue_value < 25 :\n",
    "        color = 'Orange' \n",
    "    elif hue_value < 45 :\n",
    "        color = 'Yellow'\n",
    "    elif hue_value < 85 :\n",
    "        color = 'Green'\n",
    "    elif hue_value < 125 :\n",
    "        color = 'Blue'\n",
    "    elif hue_value < 165 :\n",
    "        color = 'Purple'\n",
    "    else : \n",
    "        color = 'Red'\n",
    "        \n",
    "    pixel_center_bgr = frame[center_y,center_x] # get the BGR value of the center pixel\n",
    "    b , g , r = int(pixel_center_bgr[0]) , int(pixel_center_bgr[1]) , int(pixel_center_bgr[2]) # get the BGR value of the center pixel\n",
    "    \n",
    "    \n",
    "    cv2.putText(frame,color,(center_x-50,center_y-50),cv2.FONT_HERSHEY_SIMPLEX,1,(0,255,0),2) # put the color name on the frame\n",
    "    cv2.circle(frame,(center_x,center_y),5,(0,255,0),2) # draw a circle around the center pixel\n",
    "    cv2.imshow('frame',frame) # show the frame\n",
    "    \n",
    "    key = cv2.waitKey(1) # wait for 1 ms for the user to press a key\n",
    "    if key == ord('q') :\n",
    "        break\n",
    "cap.release()\n",
    "cv2.destroyAllWindows()\n"
   ]
  }
 ],
 "metadata": {
  "kernelspec": {
   "display_name": "base",
   "language": "python",
   "name": "python3"
  },
  "language_info": {
   "codemirror_mode": {
    "name": "ipython",
    "version": 3
   },
   "file_extension": ".py",
   "mimetype": "text/x-python",
   "name": "python",
   "nbconvert_exporter": "python",
   "pygments_lexer": "ipython3",
   "version": "3.10.9"
  },
  "orig_nbformat": 4
 },
 "nbformat": 4,
 "nbformat_minor": 2
}
