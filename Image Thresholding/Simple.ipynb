{
 "cells": [
  {
   "cell_type": "code",
   "execution_count": 21,
   "metadata": {},
   "outputs": [],
   "source": [
    "import cv2\n",
    "import numpy as np \n",
    "\n",
    "# All treashold values \n",
    "\n",
    "img = cv2.imread('data.png' , 0 ) \n",
    "\n",
    "ret,thresh1 = cv2.threshold(img,127,255,cv2.THRESH_BINARY)# 0 if pixel value < 127 , 255 if pixel value > 127 \n",
    "ret , thresh2 = cv2.threshold(img,127,255,cv2.THRESH_BINARY_INV)# 255 if pixel value < 127 , 0 if pixel value > 127\n",
    "ret , thresh3 = cv2.threshold(img,127,255,cv2.THRESH_TRUNC)# 127 if pixel value < 127 , pixel value if pixel value > 127\n",
    "ret , thresh4 = cv2.threshold(img,127,255,cv2.THRESH_TOZERO)# 0 if pixel value < 127 , pixel value if pixel value > 127\n",
    "ret , thresh5 = cv2.threshold(img,127,255,cv2.THRESH_TOZERO_INV)# pixel value if pixel value < 127 , 0 if pixel value > 127\n",
    "\n",
    "\n",
    "\n",
    "\n",
    "cv2.imshow('image',img)\n",
    "cv2.imshow('thresh1',thresh1)\n",
    "# cv2.imshow('thresh2',thresh2)\n",
    "cv2.imshow('thresh3',thresh3)\n",
    "cv2.waitKey(0)\n",
    "cv2.destroyAllWindows()"
   ]
  }
 ],
 "metadata": {
  "kernelspec": {
   "display_name": "base",
   "language": "python",
   "name": "python3"
  },
  "language_info": {
   "codemirror_mode": {
    "name": "ipython",
    "version": 3
   },
   "file_extension": ".py",
   "mimetype": "text/x-python",
   "name": "python",
   "nbconvert_exporter": "python",
   "pygments_lexer": "ipython3",
   "version": "3.10.9"
  },
  "orig_nbformat": 4
 },
 "nbformat": 4,
 "nbformat_minor": 2
}
