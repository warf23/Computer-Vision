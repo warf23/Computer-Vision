{
 "cells": [
  {
   "cell_type": "code",
   "execution_count": 1,
   "metadata": {},
   "outputs": [
    {
     "ename": "error",
     "evalue": "OpenCV(4.8.0) D:\\a\\opencv-python\\opencv-python\\opencv\\modules\\highgui\\src\\window_w32.cpp:2561: error: (-27:Null pointer) NULL window: 'Threshold' in function 'cvGetTrackbarPos'\n",
     "output_type": "error",
     "traceback": [
      "\u001b[1;31m---------------------------------------------------------------------------\u001b[0m",
      "\u001b[1;31merror\u001b[0m                                     Traceback (most recent call last)",
      "Cell \u001b[1;32mIn[1], line 23\u001b[0m\n\u001b[0;32m     20\u001b[0m cv2\u001b[39m.\u001b[39mcreateTrackbar(\u001b[39m\"\u001b[39m\u001b[39mblock_size\u001b[39m\u001b[39m\"\u001b[39m, \u001b[39m\"\u001b[39m\u001b[39mThreshold\u001b[39m\u001b[39m\"\u001b[39m, \u001b[39m3\u001b[39m, \u001b[39m255\u001b[39m, nothing)  \u001b[39m# Set default block size to 3\u001b[39;00m\n\u001b[0;32m     22\u001b[0m \u001b[39mwhile\u001b[39;00m \u001b[39mTrue\u001b[39;00m:\n\u001b[1;32m---> 23\u001b[0m     block_size \u001b[39m=\u001b[39m cv2\u001b[39m.\u001b[39;49mgetTrackbarPos(\u001b[39m'\u001b[39;49m\u001b[39mblock_size\u001b[39;49m\u001b[39m'\u001b[39;49m, \u001b[39m'\u001b[39;49m\u001b[39mThreshold\u001b[39;49m\u001b[39m'\u001b[39;49m)\n\u001b[0;32m     25\u001b[0m     \u001b[39m# Make sure the block size is an odd number (required by cv2.adaptiveThreshold)\u001b[39;00m\n\u001b[0;32m     26\u001b[0m     block_size \u001b[39m=\u001b[39m \u001b[39mmax\u001b[39m(\u001b[39m3\u001b[39m, block_size)  \u001b[39m# Set a minimum block size of 3\u001b[39;00m\n",
      "\u001b[1;31merror\u001b[0m: OpenCV(4.8.0) D:\\a\\opencv-python\\opencv-python\\opencv\\modules\\highgui\\src\\window_w32.cpp:2561: error: (-27:Null pointer) NULL window: 'Threshold' in function 'cvGetTrackbarPos'\n"
     ]
    },
    {
     "ename": "",
     "evalue": "",
     "output_type": "error",
     "traceback": [
      "\u001b[1;31mThe Kernel crashed while executing code in the the current cell or a previous cell. Please review the code in the cell(s) to identify a possible cause of the failure. Click <a href='https://aka.ms/vscodeJupyterKernelCrash'>here</a> for more info. View Jupyter <a href='command:jupyter.viewOutput'>log</a> for further details."
     ]
    }
   ],
   "source": [
    "import cv2\n",
    "\n",
    "img = cv2.imread('sudoku.png', 0)\n",
    "\n",
    "# Add Binary Thresholding\n",
    "ret, th1 = cv2.threshold(img, 10, 255, cv2.THRESH_BINARY)\n",
    "\n",
    "# Adaptive Thresholding is used when the image has different lighting conditions in different areas\n",
    "\n",
    "# ******** Adaptive Thresholding ********\n",
    "\n",
    "# Add Gaussian Adaptive Thresholding\n",
    "th2 = cv2.adaptiveThreshold(img, 255, cv2.ADAPTIVE_THRESH_GAUSSIAN_C, cv2.THRESH_BINARY, 115, 1)\n",
    "\n",
    "# Create Trackbar for Adaptive Thresholding\n",
    "def nothing(x):\n",
    "    pass\n",
    "\n",
    "cv2.namedWindow(\"Threshold\")\n",
    "cv2.createTrackbar(\"block_size\", \"Threshold\", 3, 255, nothing)  # Set default block size to 3\n",
    "\n",
    "while True:\n",
    "    block_size = cv2.getTrackbarPos('block_size', 'Threshold')\n",
    "    \n",
    "    # Make sure the block size is an odd number (required by cv2.adaptiveThreshold)\n",
    "    block_size = max(3, block_size)  # Set a minimum block size of 3\n",
    "    block_size = block_size if block_size % 2 != 0 else block_size + 1\n",
    "\n",
    "    # Add Mean Adaptive Thresholding with custom block size\n",
    "    th3 = cv2.adaptiveThreshold(img, 255, cv2.ADAPTIVE_THRESH_GAUSSIAN_C, cv2.THRESH_BINARY, block_size, 1)\n",
    "\n",
    "    cv2.imshow('Original', img)\n",
    "    cv2.imshow('Threshold', th3)  # Display the adaptive thresholded image\n",
    "    \n",
    "    key = cv2.waitKey(1)  # Change waitKey to 1 millisecond to update the window continuously\n",
    "    if key == 27:  # Press 'Esc' key to exit the loop\n",
    "        break\n",
    "\n",
    "cv2.destroyAllWindows()\n"
   ]
  }
 ],
 "metadata": {
  "kernelspec": {
   "display_name": "base",
   "language": "python",
   "name": "python3"
  },
  "language_info": {
   "codemirror_mode": {
    "name": "ipython",
    "version": 3
   },
   "file_extension": ".py",
   "mimetype": "text/x-python",
   "name": "python",
   "nbconvert_exporter": "python",
   "pygments_lexer": "ipython3",
   "version": "3.10.9"
  },
  "orig_nbformat": 4
 },
 "nbformat": 4,
 "nbformat_minor": 2
}
