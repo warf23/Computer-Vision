{
 "cells": [
  {
   "cell_type": "code",
   "execution_count": 16,
   "metadata": {},
   "outputs": [],
   "source": [
    "import cv2 \n",
    "import numpy as np\n",
    "img = cv2.imread('sudoku.png',0)\n",
    "\n",
    "# Add Slob X\n",
    "sobelx = cv2.Sobel(img,cv2.CV_64F,1,0,ksize=1)\n",
    "sobely = cv2.Sobel(img,cv2.CV_64F,0,1,ksize=1)\n",
    "sobelx= np.uint8(np.absolute(sobelx))\n",
    "sobely = np.uint8(np.absolute(sobely))\n",
    "\n",
    "compine_sobelX_sobel_Y = cv2.bitwise_or(sobelx,sobely)\n",
    "\n",
    "cv2.imshow('Original',img)\n",
    "cv2.imshow('Sobel X',compine_sobelX_sobel_Y)\n",
    "cv2.waitKey(0)\n",
    "cv2.destroyAllWindows()"
   ]
  }
 ],
 "metadata": {
  "kernelspec": {
   "display_name": "base",
   "language": "python",
   "name": "python3"
  },
  "language_info": {
   "codemirror_mode": {
    "name": "ipython",
    "version": 3
   },
   "file_extension": ".py",
   "mimetype": "text/x-python",
   "name": "python",
   "nbconvert_exporter": "python",
   "pygments_lexer": "ipython3",
   "version": "3.10.9"
  },
  "orig_nbformat": 4
 },
 "nbformat": 4,
 "nbformat_minor": 2
}
