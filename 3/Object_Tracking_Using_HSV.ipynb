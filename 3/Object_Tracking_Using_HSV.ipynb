{
 "cells": [
  {
   "cell_type": "code",
   "execution_count": 8,
   "metadata": {},
   "outputs": [],
   "source": [
    "import cv2\n",
    "import numpy as np\n",
    "\n",
    "while(True) : \n",
    "    frame = cv2.imread('smarties.png')\n",
    "    hsv = cv2.cvtColor(frame, cv2.COLOR_BGR2HSV) # using cvtColor to convert the frame to HSV\n",
    "    \n",
    "    l_b = np.array([110,50,50])\n",
    "    u_b = np.array([130,255,255])\n",
    "    \n",
    "    mask = cv2.inRange(hsv , l_b , u_b) \n",
    "    \n",
    "    res = cv2.bitwise_and(frame, frame, mask=mask)        \n",
    "\n",
    "\n",
    "\n",
    "    cv2.imshow(\"frame\", frame)        \n",
    "\n",
    "    cv2.imshow(\"mask\", mask)        \n",
    "\n",
    "    cv2.imshow(\"res\", res)        \n",
    "\n",
    "\n",
    "\n",
    "    key = cv2.waitKey(1)         \n",
    "\n",
    "    if key == 27:        \n",
    "\n",
    "        break\n",
    "\n",
    "\n",
    "cv2.destroyAllWindows()\n",
    "    \n",
    "    "
   ]
  },
  {
   "cell_type": "code",
   "execution_count": 2,
   "metadata": {},
   "outputs": [
    {
     "ename": "",
     "evalue": "",
     "output_type": "error",
     "traceback": [
      "\u001b[1;31mCannot execute code, session has been disposed. Please try restarting the Kernel."
     ]
    },
    {
     "ename": "",
     "evalue": "",
     "output_type": "error",
     "traceback": [
      "\u001b[1;31mThe Kernel crashed while executing code in the the current cell or a previous cell. Please review the code in the cell(s) to identify a possible cause of the failure. Click <a href='https://aka.ms/vscodeJupyterKernelCrash'>here</a> for more info. View Jupyter <a href='command:jupyter.viewOutput'>log</a> for further details."
     ]
    }
   ],
   "source": [
    "import cv2\n",
    "import numpy as np\n",
    "\n",
    "def nothing(x) : \n",
    "    pass \n",
    "\n",
    "cv2.namedWindow('Tracking')\n",
    "cv2.createTrackbar('LH', 'Tracking', 0, 255, nothing) # Lower Hue\n",
    "cv2.createTrackbar('LS', 'Tracking', 0, 255, nothing) # Lower Saturation\n",
    "cv2.createTrackbar('LV', 'Tracking', 0, 255, nothing) # Lower Value\n",
    "cv2.createTrackbar('UH', 'Tracking', 255, 255, nothing) # Upper Hue \n",
    "cv2.createTrackbar('US', 'Tracking', 255, 255, nothing) # Upper Saturation\n",
    "cv2.createTrackbar('UV', 'Tracking', 255, 255, nothing) # Upper Value\n",
    "\n",
    "while True : \n",
    "    frame = cv2.imread('smarties.png')\n",
    "    \n",
    "    hsv = cv2.cvtColor(frame, cv2.COLOR_BGR2HSV)\n",
    "    \n",
    "    l_h = cv2.getTrackbarPos('LH', 'Tracking')\n",
    "    l_s = cv2.getTrackbarPos('LS', 'Tracking')\n",
    "    \n",
    "    l_v = cv2.getTrackbarPos('LV', 'Tracking')\n",
    "    u_h = cv2.getTrackbarPos('UH', 'Tracking')\n",
    "    \n",
    "    u_s = cv2.getTrackbarPos('US', 'Tracking')\n",
    "    u_v = cv2.getTrackbarPos('UV', 'Tracking')\n",
    "    \n",
    "    l_b = np.array([l_h, l_s, l_v])\n",
    "    u_b = np.array([u_h, u_s, u_v])\n",
    "    \n",
    "    mask = cv2.inRange(hsv, l_b, u_b)\n",
    "    \n",
    "    res = cv2.bitwise_and(frame, frame, mask = mask)\n",
    "    \n",
    "    cv2.imshow('frame', frame)\n",
    "    cv2.imshow('mask', mask)\n",
    "    cv2.imshow('res', res)\n",
    "    \n",
    "    key = cv2.waitKey(1)         \n",
    "\n",
    "    if key == 27:        \n",
    "\n",
    "        break\n",
    "\n",
    "\n",
    "cv2.destroyAllWindows()"
   ]
  }
 ],
 "metadata": {
  "kernelspec": {
   "display_name": "base",
   "language": "python",
   "name": "python3"
  },
  "language_info": {
   "codemirror_mode": {
    "name": "ipython",
    "version": 3
   },
   "file_extension": ".py",
   "mimetype": "text/x-python",
   "name": "python",
   "nbconvert_exporter": "python",
   "pygments_lexer": "ipython3",
   "version": "3.10.9"
  },
  "orig_nbformat": 4
 },
 "nbformat": 4,
 "nbformat_minor": 2
}
