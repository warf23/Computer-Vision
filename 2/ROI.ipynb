{
 "cells": [
  {
   "cell_type": "markdown",
   "metadata": {},
   "source": [
    "## ROI ( Region of Interest )"
   ]
  },
  {
   "cell_type": "markdown",
   "metadata": {},
   "source": [
    "* A Region of Interest refers to a specific portion or area within an image that is of particular significance or interest for analysis, processing, or feature extraction. ROIs are selected based on the task at hand and can vary depending on the specific application."
   ]
  },
  {
   "cell_type": "code",
   "execution_count": 7,
   "metadata": {},
   "outputs": [
    {
     "name": "stdout",
     "output_type": "stream",
     "text": [
      "['EVENT_FLAG_ALTKEY', 'EVENT_FLAG_CTRLKEY', 'EVENT_FLAG_LBUTTON', 'EVENT_FLAG_MBUTTON', 'EVENT_FLAG_RBUTTON', 'EVENT_FLAG_SHIFTKEY', 'EVENT_LBUTTONDBLCLK', 'EVENT_LBUTTONDOWN', 'EVENT_LBUTTONUP', 'EVENT_MBUTTONDBLCLK', 'EVENT_MBUTTONDOWN', 'EVENT_MBUTTONUP', 'EVENT_MOUSEHWHEEL', 'EVENT_MOUSEMOVE', 'EVENT_MOUSEWHEEL', 'EVENT_RBUTTONDBLCLK', 'EVENT_RBUTTONDOWN', 'EVENT_RBUTTONUP']\n",
      "30 , 124\n",
      "174 , 116\n",
      "36 , 257\n",
      "184 , 255\n"
     ]
    }
   ],
   "source": [
    "import cv2\n",
    "import numpy as np\n",
    "\n",
    "events = [i for i in dir(cv2) if 'EVENT' in i] # get all the events in cv2\n",
    "print(events) # print all the events\n",
    "\n",
    "def click_events(event , x , y , flags , param) : \n",
    "    \n",
    "    if event == cv2.EVENT_LBUTTONDOWN :\n",
    "        print(x , ',' , y)\n",
    "        font = cv2.FONT_HERSHEY_SIMPLEX\n",
    "        text = str(x) + ',' + str(y)\n",
    "        cv2.putText(img , text , (x,y) , font , 1 , (255,255,0) , 1)\n",
    "        cv2.imshow('image' , img)\n",
    "    if event == cv2.EVENT_RBUTTONDOWN :\n",
    "        blue = img[y,x,0] # get the blue value of the pixel\n",
    "        green = img[y,x,1] # get the green value of the pixel\n",
    "        red = img[y,x,2] # get the red value of the pixel\n",
    "        font = cv2.FONT_HERSHEY_SIMPLEX # font style\n",
    "        text = str(blue) + ',' + str(green) + ',' + str(red) # text to be displayed\n",
    "        cv2.putText(img , text , (x,y) , font , 1 , (0,255,255) , 1) # put the text on the image\n",
    "        cv2.imshow('image' , img)# display the image\n",
    "        \n",
    "\n",
    "img = cv2.imread('ronaldo.jpeg' , 1)\n",
    "cv2.imshow('image' , img)\n",
    "\n",
    "cv2.setMouseCallback('image' , click_events) # call the click_events function when the mouse is clicked\n",
    "\n",
    "cv2.waitKey(0)\n",
    "cv2.destroyAllWindows()"
   ]
  },
  {
   "cell_type": "code",
   "execution_count": 10,
   "metadata": {},
   "outputs": [
    {
     "name": "stdout",
     "output_type": "stream",
     "text": [
      "(266, 474, 3)\n",
      "378252\n",
      "uint8\n"
     ]
    }
   ],
   "source": [
    "import cv2\n",
    "img = cv2.imread('ronaldo.jpeg')\n",
    "img2 = cv2.imread('bananna.jpeg')\n",
    "\n",
    "print(img.shape) # returns tuple of number of rows, columns and channels\n",
    "print(img.size) # returns total number of pixels is accessed\n",
    "print(img.dtype) # returns image datatype is obtained\n",
    "\n",
    "b,g,r = cv2.split(img) # split image into blue, green and red channels\n",
    "\n",
    "img =cv2.merge((b,g,r)) # merge blue, green and red channels\n",
    "\n",
    "# ball = img[124:257, 30:174] #  ROI of ball  y2:y1, x2:x1\n",
    "# img[100:174, 100:160] = ball # ROI of ball is replaced with ball\n",
    "\n",
    "\n",
    "# resize image \n",
    "img = cv2.resize(img, (512,512))\n",
    "img2 = cv2.resize(img2, (512,512)) \n",
    "\n",
    "dst = cv2.add(img, img2) # add two images\n",
    "\n",
    "dst = cv2.addWeighted(img, 0.9, img2, 0.5, 2) # add two images with weight \n",
    "# how we calculate the weight? \n",
    "# dst = img*alpha + img2*beta + gamma\n",
    "cv2.imshow('image',dst)\n",
    "cv2.waitKey(0)\n",
    "cv2.destroyAllWindows()"
   ]
  },
  {
   "cell_type": "markdown",
   "metadata": {},
   "source": [
    "## Bitwise Operations (bitwise AND, OR, NOT and XOR)"
   ]
  },
  {
   "cell_type": "code",
   "execution_count": 3,
   "metadata": {},
   "outputs": [],
   "source": [
    "import cv2 \n",
    "import numpy as np \n",
    "\n",
    "image1 = np.zeros((250,500,3), np.uint8)\n",
    "cv2.rectangle(image1, (200,0), (300,100), (255,255,255), -1)\n",
    "\n",
    "image2 = np.full((250,500,3), 255, np.uint8) # 255 = white\n",
    "cv2.rectangle(image2, (0,0), (250,250), (0,0,0), -1)\n",
    "\n",
    "# All bitwise operations are performed on the binary images\n",
    "\n",
    "# Bitwise AND\n",
    "bitwiseAnd = cv2.bitwise_and(image1, image2)\n",
    "# Bitwise OR\n",
    "bitwiseOr = cv2.bitwise_or(image1, image2)\n",
    "# Bitwise XOR\n",
    "bitwiseXor = cv2.bitwise_xor(image1, image2)\n",
    "\n",
    "cv2.imshow(\"Image1\", image1)\n",
    "cv2.imshow(\"Image2\", image2)\n",
    "# cv2.imshow(\"Bitwise AND\", bitwiseAnd)\n",
    "# cv2.imshow(\"Bitwise OR\", bitwiseOr)\n",
    "cv2.imshow(\"Bitwise XOR\", bitwiseXor)\n",
    "cv2.waitKey(0)\n",
    "cv2.destroyAllWindows()"
   ]
  },
  {
   "cell_type": "markdown",
   "metadata": {},
   "source": []
  }
 ],
 "metadata": {
  "kernelspec": {
   "display_name": "base",
   "language": "python",
   "name": "python3"
  },
  "language_info": {
   "codemirror_mode": {
    "name": "ipython",
    "version": 3
   },
   "file_extension": ".py",
   "mimetype": "text/x-python",
   "name": "python",
   "nbconvert_exporter": "python",
   "pygments_lexer": "ipython3",
   "version": "3.10.9"
  },
  "orig_nbformat": 4
 },
 "nbformat": 4,
 "nbformat_minor": 2
}
