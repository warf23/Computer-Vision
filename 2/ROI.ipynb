{
 "cells": [
  {
   "cell_type": "markdown",
   "metadata": {},
   "source": [
    "## ROI ( Region of Interest )"
   ]
  },
  {
   "cell_type": "markdown",
   "metadata": {},
   "source": [
    "* A Region of Interest refers to a specific portion or area within an image that is of particular significance or interest for analysis, processing, or feature extraction. ROIs are selected based on the task at hand and can vary depending on the specific application."
   ]
  },
  {
   "cell_type": "code",
   "execution_count": 7,
   "metadata": {},
   "outputs": [
    {
     "name": "stdout",
     "output_type": "stream",
     "text": [
      "['EVENT_FLAG_ALTKEY', 'EVENT_FLAG_CTRLKEY', 'EVENT_FLAG_LBUTTON', 'EVENT_FLAG_MBUTTON', 'EVENT_FLAG_RBUTTON', 'EVENT_FLAG_SHIFTKEY', 'EVENT_LBUTTONDBLCLK', 'EVENT_LBUTTONDOWN', 'EVENT_LBUTTONUP', 'EVENT_MBUTTONDBLCLK', 'EVENT_MBUTTONDOWN', 'EVENT_MBUTTONUP', 'EVENT_MOUSEHWHEEL', 'EVENT_MOUSEMOVE', 'EVENT_MOUSEWHEEL', 'EVENT_RBUTTONDBLCLK', 'EVENT_RBUTTONDOWN', 'EVENT_RBUTTONUP']\n",
      "30 , 124\n",
      "174 , 116\n",
      "36 , 257\n",
      "184 , 255\n"
     ]
    }
   ],
   "source": [
    "import cv2\n",
    "import numpy as np\n",
    "\n",
    "events = [i for i in dir(cv2) if 'EVENT' in i] # get all the events in cv2\n",
    "print(events) # print all the events\n",
    "\n",
    "def click_events(event , x , y , flags , param) : \n",
    "    \n",
    "    if event == cv2.EVENT_LBUTTONDOWN :\n",
    "        print(x , ',' , y)\n",
    "        font = cv2.FONT_HERSHEY_SIMPLEX\n",
    "        text = str(x) + ',' + str(y)\n",
    "        cv2.putText(img , text , (x,y) , font , 1 , (255,255,0) , 1)\n",
    "        cv2.imshow('image' , img)\n",
    "    if event == cv2.EVENT_RBUTTONDOWN :\n",
    "        blue = img[y,x,0] # get the blue value of the pixel\n",
    "        green = img[y,x,1] # get the green value of the pixel\n",
    "        red = img[y,x,2] # get the red value of the pixel\n",
    "        font = cv2.FONT_HERSHEY_SIMPLEX # font style\n",
    "        text = str(blue) + ',' + str(green) + ',' + str(red) # text to be displayed\n",
    "        cv2.putText(img , text , (x,y) , font , 1 , (0,255,255) , 1) # put the text on the image\n",
    "        cv2.imshow('image' , img)# display the image\n",
    "        \n",
    "\n",
    "img = cv2.imread('ronaldo.jpeg' , 1)\n",
    "cv2.imshow('image' , img)\n",
    "\n",
    "cv2.setMouseCallback('image' , click_events) # call the click_events function when the mouse is clicked\n",
    "\n",
    "cv2.waitKey(0)\n",
    "cv2.destroyAllWindows()"
   ]
  },
  {
   "cell_type": "code",
   "execution_count": 10,
   "metadata": {},
   "outputs": [
    {
     "name": "stdout",
     "output_type": "stream",
     "text": [
      "(266, 474, 3)\n",
      "378252\n",
      "uint8\n"
     ]
    }
   ],
   "source": [
    "import cv2\n",
    "img = cv2.imread('ronaldo.jpeg')\n",
    "img2 = cv2.imread('bananna.jpeg')\n",
    "\n",
    "print(img.shape) # returns tuple of number of rows, columns and channels\n",
    "print(img.size) # returns total number of pixels is accessed\n",
    "print(img.dtype) # returns image datatype is obtained\n",
    "\n",
    "b,g,r = cv2.split(img) # split image into blue, green and red channels\n",
    "\n",
    "img =cv2.merge((b,g,r)) # merge blue, green and red channels\n",
    "\n",
    "# ball = img[124:257, 30:174] #  ROI of ball  y2:y1, x2:x1\n",
    "# img[100:174, 100:160] = ball # ROI of ball is replaced with ball\n",
    "\n",
    "\n",
    "# resize image \n",
    "img = cv2.resize(img, (512,512))\n",
    "img2 = cv2.resize(img2, (512,512)) \n",
    "\n",
    "dst = cv2.add(img, img2) # add two images\n",
    "\n",
    "dst = cv2.addWeighted(img, 0.9, img2, 0.5, 2) # add two images with weight \n",
    "# how we calculate the weight? \n",
    "# dst = img*alpha + img2*beta + gamma\n",
    "cv2.imshow('image',dst)\n",
    "cv2.waitKey(0)\n",
    "cv2.destroyAllWindows()"
   ]
  },
  {
   "cell_type": "markdown",
   "metadata": {},
   "source": [
    "## Bitwise Operations (bitwise AND, OR, NOT and XOR)"
   ]
  },
  {
   "cell_type": "code",
   "execution_count": 1,
   "metadata": {},
   "outputs": [],
   "source": [
    "import cv2 \n",
    "import numpy as np \n",
    "\n",
    "image1 = np.zeros((250,500,3), np.uint8)\n",
    "cv2.rectangle(image1, (200,0), (300,100), (255,255,255), -1)\n",
    "\n",
    "image2 = np.full((250,500,3), 255, np.uint8) # 255 = white\n",
    "cv2.rectangle(image2, (0,0), (250,250), (0,0,0), -1)\n",
    "\n",
    "# All bitwise operations are performed on the binary images\n",
    "\n",
    "# Bitwise AND\n",
    "bitwiseAnd = cv2.bitwise_and(image1, image2)\n",
    "# Bitwise OR\n",
    "bitwiseOr = cv2.bitwise_or(image1, image2)\n",
    "# Bitwise XOR\n",
    "bitwiseXor = cv2.bitwise_xor(image1, image2)\n",
    "\n",
    "cv2.imshow(\"Image1\", image1)\n",
    "cv2.imshow(\"Image2\", image2)\n",
    "# cv2.imshow(\"Bitwise AND\", bitwiseAnd)\n",
    "# cv2.imshow(\"Bitwise OR\", bitwiseOr)\n",
    "cv2.imshow(\"Bitwise XOR\", bitwiseXor)\n",
    "cv2.waitKey(0)\n",
    "cv2.destroyAllWindows()"
   ]
  },
  {
   "cell_type": "markdown",
   "metadata": {},
   "source": [
    "# How to Bind Trackbar To OpenCV"
   ]
  },
  {
   "cell_type": "code",
   "execution_count": null,
   "metadata": {},
   "outputs": [
    {
     "ename": "error",
     "evalue": "OpenCV(4.8.0) D:\\a\\opencv-python\\opencv-python\\opencv\\modules\\highgui\\src\\window_w32.cpp:2561: error: (-27:Null pointer) NULL window: 'image' in function 'cvGetTrackbarPos'\n",
     "output_type": "error",
     "traceback": [
      "\u001b[1;31m---------------------------------------------------------------------------\u001b[0m",
      "\u001b[1;31merror\u001b[0m                                     Traceback (most recent call last)",
      "Cell \u001b[1;32mIn[4], line 21\u001b[0m\n\u001b[0;32m     19\u001b[0m \u001b[39mif\u001b[39;00m k \u001b[39m==\u001b[39m \u001b[39m27\u001b[39m:\n\u001b[0;32m     20\u001b[0m     \u001b[39mbreak\u001b[39;00m\n\u001b[1;32m---> 21\u001b[0m b \u001b[39m=\u001b[39m cv2\u001b[39m.\u001b[39;49mgetTrackbarPos(\u001b[39m'\u001b[39;49m\u001b[39mB\u001b[39;49m\u001b[39m'\u001b[39;49m,\u001b[39m'\u001b[39;49m\u001b[39mimage\u001b[39;49m\u001b[39m'\u001b[39;49m) \u001b[39m# get current positions of four trackbars\u001b[39;00m\n\u001b[0;32m     22\u001b[0m g \u001b[39m=\u001b[39m cv2\u001b[39m.\u001b[39mgetTrackbarPos(\u001b[39m'\u001b[39m\u001b[39mG\u001b[39m\u001b[39m'\u001b[39m,\u001b[39m'\u001b[39m\u001b[39mimage\u001b[39m\u001b[39m'\u001b[39m) \u001b[39m# get current positions of four trackbars\u001b[39;00m\n\u001b[0;32m     23\u001b[0m r \u001b[39m=\u001b[39m cv2\u001b[39m.\u001b[39mgetTrackbarPos(\u001b[39m'\u001b[39m\u001b[39mR\u001b[39m\u001b[39m'\u001b[39m,\u001b[39m'\u001b[39m\u001b[39mimage\u001b[39m\u001b[39m'\u001b[39m) \u001b[39m# get current positions of four trackbars\u001b[39;00m\n",
      "\u001b[1;31merror\u001b[0m: OpenCV(4.8.0) D:\\a\\opencv-python\\opencv-python\\opencv\\modules\\highgui\\src\\window_w32.cpp:2561: error: (-27:Null pointer) NULL window: 'image' in function 'cvGetTrackbarPos'\n"
     ]
    }
   ],
   "source": [
    "import cv2 \n",
    "import numpy as np\n",
    "\n",
    "def nothing(x):\n",
    "    print(x)\n",
    "\n",
    "img = np.zeros((512,512,3), np.uint8) # create a black image\n",
    "cv2.namedWindow('image') # create a window\n",
    "\n",
    "cv2.createTrackbar('B','image',0,255,nothing) # create trackbars for color change\n",
    "cv2.createTrackbar('G','image',0,255,nothing) # create trackbars for color change\n",
    "cv2.createTrackbar('R','image',0,255,nothing)# create trackbars for color change\n",
    "switch = '0:OFF\\n1:ON' # create switch for ON/OFF functionality\n",
    "cv2.createTrackbar(switch,'image',0,1,nothing) # create trackbars for color change\n",
    "\n",
    "while(1):\n",
    "    cv2.imshow('image',img)\n",
    "    k = cv2.waitKey(1) & 0xFF\n",
    "    if k == 27:\n",
    "        break\n",
    "    b = cv2.getTrackbarPos('B','image') # get current positions of four trackbars\n",
    "    g = cv2.getTrackbarPos('G','image') # get current positions of four trackbars\n",
    "    r = cv2.getTrackbarPos('R','image') # get current positions of four trackbars\n",
    "    s = cv2.getTrackbarPos(switch,'image') # get current positions of four trackbars\n",
    "    \n",
    "    if s == 0: \n",
    "        img[:] = 0 # if switch is OFF, image is black\n",
    "    else:\n",
    "        img[:] = [b,g,r] # if switch is ON, image is colored\n",
    "    \n",
    "\n",
    "\n",
    "cv2.destroyAllWindows()\n",
    "\n"
   ]
  },
  {
   "cell_type": "code",
   "execution_count": 5,
   "metadata": {},
   "outputs": [
    {
     "ename": "TypeError",
     "evalue": "Can't convert object to 'str' for 'filename'",
     "output_type": "error",
     "traceback": [
      "\u001b[1;31m---------------------------------------------------------------------------\u001b[0m",
      "\u001b[1;31mTypeError\u001b[0m                                 Traceback (most recent call last)",
      "Cell \u001b[1;32mIn[5], line 4\u001b[0m\n\u001b[0;32m      2\u001b[0m \u001b[39mimport\u001b[39;00m \u001b[39mnumpy\u001b[39;00m \u001b[39mas\u001b[39;00m \u001b[39mnp\u001b[39;00m\n\u001b[0;32m      3\u001b[0m img \u001b[39m=\u001b[39m np\u001b[39m.\u001b[39mzeros((\u001b[39m512\u001b[39m,\u001b[39m512\u001b[39m,\u001b[39m3\u001b[39m), np\u001b[39m.\u001b[39muint8)\n\u001b[1;32m----> 4\u001b[0m cv2\u001b[39m.\u001b[39;49mimread(img)\n",
      "\u001b[1;31mTypeError\u001b[0m: Can't convert object to 'str' for 'filename'"
     ]
    }
   ],
   "source": []
  }
 ],
 "metadata": {
  "kernelspec": {
   "display_name": "base",
   "language": "python",
   "name": "python3"
  },
  "language_info": {
   "codemirror_mode": {
    "name": "ipython",
    "version": 3
   },
   "file_extension": ".py",
   "mimetype": "text/x-python",
   "name": "python",
   "nbconvert_exporter": "python",
   "pygments_lexer": "ipython3",
   "version": "3.10.9"
  },
  "orig_nbformat": 4
 },
 "nbformat": 4,
 "nbformat_minor": 2
}
