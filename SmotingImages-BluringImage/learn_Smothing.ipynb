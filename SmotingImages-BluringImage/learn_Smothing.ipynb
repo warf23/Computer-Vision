{
 "cells": [
  {
   "cell_type": "markdown",
   "metadata": {},
   "source": [
    "Smothing & Bluring is used to remove noise from the image. There are various methods of doing this.\n",
    "Examples of Smothing & Bluring are: \n",
    "1. Averaging : This is done by convolving the image with a normalized box filter. It simply takes the average of all the pixels under kernel area and replaces the central element with this average. This is done by the function cv2.blur() or cv2.boxFilter(). Check the docs for more details about the kernel. We should specify the width and height of kernel. A 3x3 normalized box filter would look like this:\n",
    "\n",
    "2. Gaussian Bluring : In this, instead of box filter, gaussian kernel is used. It is done with the function, cv2.GaussianBlur(). We should specify the width and height of kernel which should be positive and odd. We also should specify the standard deviation in X and Y direction, sigmaX and sigmaY respectively. If only sigmaX is specified, sigmaY is taken as same as sigmaX. If both are given as zeros, they are calculated from kernel size. Gaussian blurring is highly effective in removing gaussian noise from the image.\n",
    "3. Median Bluring : Here, the function cv2.medianBlur() takes median of all the pixels under kernel area and central element is replaced with this median value. This is highly effective against salt-and-pepper noise in the images. Interesting thing is that, in the above filters, central element is a newly calculated value which may be a pixel value in the image or a new value. But in median blurring, central element is always replaced by some pixel value in the image. It reduces the noise effectively. Its kernel size should be a positive odd integer.\n",
    "4. Bilateral Filtering : cv2.bilateralFilter() is highly effective in noise removal while keeping edges sharp. But the operation is slower compared to other filters. We already saw that gaussian filter takes the a neighbourhood around the pixel and find its gaussian weighted average. This gaussian filter is a function of space alone, that is, nearby pixels are considered while filtering. It doesn't consider whether pixels have almost same intensity. It doesn't consider whether pixel is an edge pixel or not. So it blurs the edges also, which we don't want to do. Bilateral filter also takes a gaussian filter in space, but one more gaussian filter which is a function of pixel difference. Gaussian function of space make sure only nearby pixels are considered for blurring while gaussian function of intensity difference make sure only those pixels with similar intensity to central pixel is considered for blurring. So it preserves the edges since pixels at edges will have large intensity variation.\n"
   ]
  },
  {
   "cell_type": "code",
   "execution_count": 8,
   "metadata": {},
   "outputs": [],
   "source": [
    "import cv2\n",
    "import numpy as np \n",
    "\n",
    "from matplotlib import pyplot as plt\n",
    "\n",
    "# read image \n",
    "img = cv2.imread('Halftone_Gaussian_Blur.jpg')\n",
    "\n",
    "# applicate average filter\n",
    "blur = cv2.blur(img,(8,8)) # (5,5) is the kernel size if you want blur more increase the kernel size\n",
    "\n",
    "# applicate gaussian filter\n",
    "gaussian = cv2.GaussianBlur(img,(5,5),0)\n",
    "\n",
    "# applicate median filter\n",
    "median = cv2.medianBlur(img,5)\n",
    "\n",
    "# applicate bilateral filter\n",
    "bilateral = cv2.bilateralFilter(img,9,75,75)\n",
    "\n",
    "\n",
    "cv2.imshow('image',img)\n",
    "cv2.imshow('blur',blur)\n",
    "cv2.imshow('gaussian',gaussian)\n",
    "cv2.imshow('median',median)\n",
    "cv2.imshow('bilateral',bilateral)\n",
    "cv2.waitKey(0)\n",
    "cv2.destroyAllWindows()\n"
   ]
  }
 ],
 "metadata": {
  "kernelspec": {
   "display_name": "base",
   "language": "python",
   "name": "python3"
  },
  "language_info": {
   "codemirror_mode": {
    "name": "ipython",
    "version": 3
   },
   "file_extension": ".py",
   "mimetype": "text/x-python",
   "name": "python",
   "nbconvert_exporter": "python",
   "pygments_lexer": "ipython3",
   "version": "3.10.9"
  },
  "orig_nbformat": 4
 },
 "nbformat": 4,
 "nbformat_minor": 2
}
